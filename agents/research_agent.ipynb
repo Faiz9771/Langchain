{
 "cells": [
  {
   "cell_type": "code",
   "execution_count": 13,
   "id": "27c4b313",
   "metadata": {},
   "outputs": [],
   "source": [
    "from langchain_community.tools import WikipediaQueryRun\n",
    "from langchain_community.utilities import WikipediaAPIWrapper\n"
   ]
  },
  {
   "cell_type": "code",
   "execution_count": 14,
   "id": "cd740f72",
   "metadata": {},
   "outputs": [],
   "source": [
    "api_wrapper = WikipediaAPIWrapper(top_k_results=1, doc_content_chars_max=200)\n",
    "wiki = WikipediaQueryRun(api_wrapper=api_wrapper)"
   ]
  },
  {
   "cell_type": "code",
   "execution_count": 15,
   "id": "d1d22d58",
   "metadata": {},
   "outputs": [
    {
     "data": {
      "text/plain": [
       "'wikipedia'"
      ]
     },
     "execution_count": 15,
     "metadata": {},
     "output_type": "execute_result"
    }
   ],
   "source": [
    "wiki.name"
   ]
  },
  {
   "cell_type": "code",
   "execution_count": 17,
   "id": "c16204d1",
   "metadata": {},
   "outputs": [
    {
     "data": {
      "text/plain": [
       "'arxiv'"
      ]
     },
     "execution_count": 17,
     "metadata": {},
     "output_type": "execute_result"
    }
   ],
   "source": [
    "from langchain_community.utilities import ArxivAPIWrapper\n",
    "from langchain_community.tools import ArxivQueryRun\n",
    "\n",
    "arxiv_wrapper=ArxivAPIWrapper(\n",
    "    top_k_results=5,  # Get more results\n",
    "    doc_content_chars_max=2000,  # More content\n",
    "    load_max_docs=10,  # Load more documents\n",
    "    continue_on_failure=True)\n",
    "arxiv=ArxivQueryRun(api_wrapper=arxiv_wrapper)\n",
    "arxiv.name"
   ]
  },
  {
   "cell_type": "code",
   "execution_count": 18,
   "id": "288e2917",
   "metadata": {},
   "outputs": [],
   "source": [
    "tools=[wiki,arxiv]"
   ]
  },
  {
   "cell_type": "code",
   "execution_count": 19,
   "id": "7906e1be",
   "metadata": {},
   "outputs": [
    {
     "data": {
      "text/plain": [
       "[WikipediaQueryRun(api_wrapper=WikipediaAPIWrapper(wiki_client=<module 'wikipedia' from '/Users/faizmemon/Documents/Langchain/venv/lib/python3.11/site-packages/wikipedia/__init__.py'>, top_k_results=1, lang='en', load_all_available_meta=False, doc_content_chars_max=200)),\n",
       " ArxivQueryRun(api_wrapper=ArxivAPIWrapper(arxiv_search=<class 'arxiv.Search'>, arxiv_exceptions=(<class 'arxiv.ArxivError'>, <class 'arxiv.UnexpectedEmptyPageError'>, <class 'arxiv.HTTPError'>), top_k_results=5, ARXIV_MAX_QUERY_LENGTH=300, continue_on_failure=True, load_max_docs=10, load_all_available_meta=False, doc_content_chars_max=2000))]"
      ]
     },
     "execution_count": 19,
     "metadata": {},
     "output_type": "execute_result"
    }
   ],
   "source": [
    "tools"
   ]
  },
  {
   "cell_type": "code",
   "execution_count": 20,
   "id": "aa02f9fb",
   "metadata": {},
   "outputs": [
    {
     "name": "stderr",
     "output_type": "stream",
     "text": [
      "E0000 00:00:1760444391.191713 5840239 alts_credentials.cc:93] ALTS creds ignored. Not running on GCP and untrusted ALTS is not enabled.\n"
     ]
    }
   ],
   "source": [
    "import os\n",
    "\n",
    "from dotenv import load_dotenv\n",
    "load_dotenv()\n",
    "from langchain_google_genai import ChatGoogleGenerativeAI\n",
    "\n",
    "#environment variables\n",
    "os.environ[\"GOOGLE_API_KEY\"] = os.getenv(\"GOOGLE_API_KEY\")\n",
    "llm=ChatGoogleGenerativeAI(model=\"gemini-2.0-flash\", temperature=0)"
   ]
  },
  {
   "cell_type": "code",
   "execution_count": 21,
   "id": "0e1cff3e",
   "metadata": {},
   "outputs": [
    {
     "name": "stdout",
     "output_type": "stream",
     "text": [
      "Agent created successfully!\n",
      "Available tools: ['wikipedia', 'arxiv']\n"
     ]
    }
   ],
   "source": [
    "# agent to use combined tools\n",
    "from langchain.agents import create_tool_calling_agent, AgentExecutor\n",
    "from langchain_core.prompts import ChatPromptTemplate\n",
    "\n",
    "# prompt\n",
    "agent_prompt = ChatPromptTemplate.from_messages([\n",
    "    (\"system\", \"\"\"You are an expert research assistant specializing in comprehensive analysis and deep-dive research. You have access to multiple research tools:\n",
    "\n",
    "🔬 AVAILABLE RESEARCH TOOLS:\n",
    "1. Wikipedia Search: General knowledge and overview information\n",
    "2. Enhanced Arxiv Search: Academic papers and research (5 results, detailed content)\n",
    "3. Web Search: Current information and recent developments\n",
    "4. Research Analysis Tool: Comprehensive multi-source analysis with configurable depth\n",
    "\n",
    "📋 RESEARCH METHODOLOGY:\n",
    "- Always start with the Research Analysis Tool for comprehensive overview\n",
    "- Use specific tools for targeted information when needed\n",
    "- Combine information from multiple sources for complete understanding\n",
    "- Provide detailed citations and source references\n",
    "- Analyze trends, patterns, and connections between sources\n",
    "- Identify gaps in information and suggest further research directions\n",
    "\n",
    "🎯 RESPONSE STRUCTURE:\n",
    "1. Executive Summary (2-3 sentences)\n",
    "2. Detailed Analysis (with sources)\n",
    "3. Key Findings and Insights\n",
    "4. Current Trends and Developments\n",
    "5. Research Gaps and Future Directions\n",
    "6. Source Citations\n",
    "\n",
    "💡 ANALYSIS DEPTH LEVELS:\n",
    "- Shallow: Quick overview (3 sources, 1000 chars)\n",
    "- Medium: Standard analysis (5 sources, 2000 chars) \n",
    "- Deep: Comprehensive research (10 sources, 3000 chars)\n",
    "\n",
    "Always aim for comprehensive, well-researched responses that provide deep insights into the topic.\"\"\"),\n",
    "    (\"human\", \"{input}\"),\n",
    "    (\"placeholder\", \"{agent_scratchpad}\")\n",
    "])\n",
    "\n",
    "# Create the agent\n",
    "agent = create_tool_calling_agent(llm, tools, agent_prompt)\n",
    "\n",
    "# Create the agent executor\n",
    "agent_executor = AgentExecutor(agent=agent, tools=tools,max_iterations=5, verbose=True)\n",
    "\n",
    "print(\"Agent created successfully!\")\n",
    "print(\"Available tools:\", [tool.name for tool in tools])\n"
   ]
  },
  {
   "cell_type": "code",
   "execution_count": 23,
   "id": "13ae041a",
   "metadata": {},
   "outputs": [],
   "source": [
    "# Jupyter-compatible interactive chat using widgets\n",
    "import ipywidgets as widgets\n",
    "from IPython.display import display, clear_output\n",
    "import time\n",
    "\n",
    "class JupyterChat:\n",
    "    def __init__(self, agent_executor):\n",
    "        self.agent_executor = agent_executor\n",
    "        self.conversation_history = []\n",
    "        self.message_count = 0\n",
    "        \n",
    "        # Create widgets\n",
    "        self.text_input = widgets.Text(\n",
    "            placeholder='Type your question here...',\n",
    "            description='Question:',\n",
    "            style={'description_width': 'initial'},\n",
    "            layout=widgets.Layout(width='80%')\n",
    "        )\n",
    "        \n",
    "        self.send_button = widgets.Button(\n",
    "            description='Send',\n",
    "            button_style='primary',\n",
    "            icon='paper-plane'\n",
    "        )\n",
    "        \n",
    "        self.clear_button = widgets.Button(\n",
    "            description='Clear Chat',\n",
    "            button_style='warning',\n",
    "            icon='trash'\n",
    "        )\n",
    "        \n",
    "        self.exit_button = widgets.Button(\n",
    "            description='Exit Chat',\n",
    "            button_style='danger',\n",
    "            icon='sign-out'\n",
    "        )\n",
    "        \n",
    "        self.output_area = widgets.Output()\n",
    "        \n",
    "        # Set up event handlers\n",
    "        self.send_button.on_click(self.send_message)\n",
    "        self.clear_button.on_click(self.clear_chat)\n",
    "        self.exit_button.on_click(self.exit_chat)\n",
    "        self.text_input.on_submit(self.send_message)\n",
    "        \n",
    "        # Display the chat interface\n",
    "        self.display_chat()\n",
    "    \n",
    "    def display_chat(self):\n",
    "        \"\"\"Display the chat interface\"\"\"\n",
    "        clear_output()\n",
    "        \n",
    "        # Welcome message\n",
    "        print(\"🤖 Welcome to the Jupyter AI Agent Chat!\")\n",
    "        print(\"=\" * 60)\n",
    "        print(\"Available tools: Wikipedia,Arxiv Search\")\n",
    "        print(\"Type your questions below and click 'Send' or press Enter\")\n",
    "        print(\"=\" * 60)\n",
    "        \n",
    "        # Display widgets\n",
    "        display(widgets.HBox([self.text_input, self.send_button]))\n",
    "        display(widgets.HBox([self.clear_button, self.exit_button]))\n",
    "        display(self.output_area)\n",
    "    \n",
    "    def send_message(self, button=None):\n",
    "        \"\"\"Send a message to the agent\"\"\"\n",
    "        user_input = self.text_input.value.strip()\n",
    "        \n",
    "        if not user_input:\n",
    "            with self.output_area:\n",
    "                print(\"🤖 Agent: Please enter a question.\")\n",
    "            return\n",
    "        \n",
    "        self.message_count += 1\n",
    "        self.conversation_history.append(f\"👤 You: {user_input}\")\n",
    "        \n",
    "        with self.output_area:\n",
    "            print(f\"\\n👤 You: {user_input}\")\n",
    "            print(\"🤖 Agent: Thinking...\")\n",
    "        \n",
    "        try:\n",
    "            # Get agent response\n",
    "            result = self.agent_executor.invoke({\"input\": user_input})\n",
    "            agent_response = result['output']\n",
    "            \n",
    "            self.conversation_history.append(f\"🤖 Agent: {agent_response}\")\n",
    "            \n",
    "            with self.output_area:\n",
    "                print(f\"🤖 Agent: {agent_response}\")\n",
    "                print(\"-\" * 50)\n",
    "        \n",
    "        except Exception as e:\n",
    "            error_msg = f\"Sorry, I encountered an error: {str(e)}\"\n",
    "            self.conversation_history.append(f\"🤖 Agent: {error_msg}\")\n",
    "            \n",
    "            with self.output_area:\n",
    "                print(f\"🤖 Agent: {error_msg}\")\n",
    "                print(\"-\" * 50)\n",
    "        \n",
    "        # Clear the input\n",
    "        self.text_input.value = ''\n",
    "    \n",
    "    def clear_chat(self, button=None):\n",
    "        \"\"\"Clear the conversation history\"\"\"\n",
    "        self.conversation_history = []\n",
    "        self.message_count = 0\n",
    "        \n",
    "        with self.output_area:\n",
    "            clear_output()\n",
    "            print(\"🧹 Chat history cleared!\")\n",
    "    \n",
    "    def exit_chat(self, button=None):\n",
    "        \"\"\"Exit the chat\"\"\"\n",
    "        with self.output_area:\n",
    "            print(\"\\n🤖 Agent: Goodbye! Thanks for chatting!\")\n",
    "            print(f\"📊 Total messages exchanged: {self.message_count}\")\n",
    "            print(\"=\" * 60)\n",
    "        \n",
    "        # Disable widgets\n",
    "        self.text_input.disabled = True\n",
    "        self.send_button.disabled = True\n",
    "        self.clear_button.disabled = True\n",
    "        self.exit_button.disabled = True\n",
    "\n",
    "\n"
   ]
  },
  {
   "cell_type": "code",
   "execution_count": 11,
   "id": "b7eeeb6c",
   "metadata": {},
   "outputs": [
    {
     "name": "stdout",
     "output_type": "stream",
     "text": [
      "🤖 Welcome to the Jupyter AI Agent Chat!\n",
      "============================================================\n",
      "Available tools: Wikipedia,Arxiv Search\n",
      "Type your questions below and click 'Send' or press Enter\n",
      "============================================================\n"
     ]
    },
    {
     "data": {
      "application/vnd.jupyter.widget-view+json": {
       "model_id": "ac9d6a75066e4d2eb82d7c4d46fbec0b",
       "version_major": 2,
       "version_minor": 0
      },
      "text/plain": [
       "HBox(children=(Text(value='', description='Question:', layout=Layout(width='80%'), placeholder='Type your ques…"
      ]
     },
     "metadata": {},
     "output_type": "display_data"
    },
    {
     "data": {
      "application/vnd.jupyter.widget-view+json": {
       "model_id": "dc364b96da094af2abd021eead932e42",
       "version_major": 2,
       "version_minor": 0
      },
      "text/plain": [
       "HBox(children=(Button(button_style='warning', description='Clear Chat', icon='trash', style=ButtonStyle()), Bu…"
      ]
     },
     "metadata": {},
     "output_type": "display_data"
    },
    {
     "data": {
      "application/vnd.jupyter.widget-view+json": {
       "model_id": "4d54bbc631414ffab89df8048a4544cc",
       "version_major": 2,
       "version_minor": 0
      },
      "text/plain": [
       "Output()"
      ]
     },
     "metadata": {},
     "output_type": "display_data"
    }
   ],
   "source": [
    "# Create the chat instance\n",
    "jupyter_chat = JupyterChat(agent_executor)"
   ]
  }
 ],
 "metadata": {
  "kernelspec": {
   "display_name": "venv",
   "language": "python",
   "name": "python3"
  },
  "language_info": {
   "codemirror_mode": {
    "name": "ipython",
    "version": 3
   },
   "file_extension": ".py",
   "mimetype": "text/x-python",
   "name": "python",
   "nbconvert_exporter": "python",
   "pygments_lexer": "ipython3",
   "version": "3.11.8"
  }
 },
 "nbformat": 4,
 "nbformat_minor": 5
}
